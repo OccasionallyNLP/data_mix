{
 "cells": [
  {
   "cell_type": "markdown",
   "id": "3147835b",
   "metadata": {},
   "source": [
    "# cross entropy\n",
    "1. co-occurance matrix\n",
    "2. cross entropy"
   ]
  },
  {
   "cell_type": "code",
   "execution_count": 1,
   "id": "ed8288c3",
   "metadata": {},
   "outputs": [],
   "source": [
    "from datasets import load_dataset,load_from_disk\n",
    "from transformers import AutoTokenizer\n",
    "from tqdm import tqdm"
   ]
  },
  {
   "cell_type": "code",
   "execution_count": 2,
   "id": "2251d394",
   "metadata": {},
   "outputs": [
    {
     "data": {
      "application/vnd.jupyter.widget-view+json": {
       "model_id": "a5c6aac7e7c148b189f4628a9a889033",
       "version_major": 2,
       "version_minor": 0
      },
      "text/plain": [
       "Loading dataset from disk:   0%|          | 0/64 [00:00<?, ?it/s]"
      ]
     },
     "metadata": {},
     "output_type": "display_data"
    },
    {
     "data": {
      "application/vnd.jupyter.widget-view+json": {
       "model_id": "aaaed387db084ed48c7339ea993fc02d",
       "version_major": 2,
       "version_minor": 0
      },
      "text/plain": [
       "Loading dataset from disk:   0%|          | 0/1015 [00:00<?, ?it/s]"
      ]
     },
     "metadata": {},
     "output_type": "display_data"
    }
   ],
   "source": [
    "ds = load_from_disk('/home/work/user/ocw/language_transfer/synthetic/fineweb')"
   ]
  },
  {
   "cell_type": "code",
   "execution_count": 30,
   "id": "6c3e9eb9",
   "metadata": {},
   "outputs": [],
   "source": [
    "# LOAD TOKENIZER\n",
    "# ex) tokenizer = load_tiktoken_tokenizer('kt_tokenizer_v3/tiktoken/kt_v3.tiktoken')\n",
    "TOKENIZER_MODEL_PATH='/home/work/g-earth-22/ocw/tokenizer/huggingface/kt_v3'\n",
    "tokenizer = AutoTokenizer.from_pretrained(TOKENIZER_MODEL_PATH)"
   ]
  },
  {
   "cell_type": "code",
   "execution_count": 5,
   "id": "6b4f0f6b",
   "metadata": {},
   "outputs": [],
   "source": [
    "import os\n",
    "import parmap\n",
    "from multiprocessing import Manager"
   ]
  },
  {
   "cell_type": "code",
   "execution_count": 4,
   "id": "af1c2639",
   "metadata": {},
   "outputs": [],
   "source": [
    "# cpu 개수\n",
    "num_core = os.cpu_count()"
   ]
  },
  {
   "cell_type": "code",
   "execution_count": 13,
   "id": "1ae336f4",
   "metadata": {},
   "outputs": [],
   "source": [
    "manager = Manager()"
   ]
  },
  {
   "cell_type": "code",
   "execution_count": 12,
   "id": "e56e70ab",
   "metadata": {},
   "outputs": [],
   "source": [
    "d = manager.dict()"
   ]
  },
  {
   "cell_type": "code",
   "execution_count": null,
   "id": "53ceff9e",
   "metadata": {},
   "outputs": [],
   "source": [
    "d = manager.dict() # process간 shared memory\n",
    "\n",
    "def a(x, d):\n",
    "    d[x] = 1\n",
    "\n",
    "input_list = range(0, 10)\n",
    "parmap.map(a, input_list, d, pm_pbar=True, pm_processes=num_cores)"
   ]
  },
  {
   "cell_type": "code",
   "execution_count": 38,
   "id": "5a3f9203",
   "metadata": {},
   "outputs": [],
   "source": [
    "def compute_co_occurrence_matrix(datasets, n_vocab, key='input_ids', window_size=1):\n",
    "    threshold = 1000\n",
    "    cnt = 0\n",
    "    M = None\n",
    "    M = np.zeros((n_vocab, n_vocab))\n",
    "    for doc in tqdm(datasets, desc='document'):\n",
    "        if cnt==threshold:\n",
    "            break\n",
    "        doc = doc['input_ids']\n",
    "        for idx, word in enumerate(doc):\n",
    "            for i in range(idx+1, min(idx+window_size+1, len(doc))):\n",
    "                M[word, doc[i]] += 1\n",
    "        cnt+=1\n",
    "    M += M.T\n",
    "    return M"
   ]
  },
  {
   "cell_type": "code",
   "execution_count": null,
   "id": "9d3b4bee",
   "metadata": {},
   "outputs": [
    {
     "name": "stderr",
     "output_type": "stream",
     "text": [
      "document:   0% 1000/20636903 [00:04<27:39:22, 207.27it/s]\n"
     ]
    }
   ],
   "source": [
    "M = compute_co_occurrence_matrix(ds['train'], len(tokenizer))"
   ]
  },
  {
   "cell_type": "code",
   "execution_count": null,
   "id": "840194d2",
   "metadata": {},
   "outputs": [],
   "source": [
    "M"
   ]
  }
 ],
 "metadata": {
  "kernelspec": {
   "display_name": "PyTorch 2.4 (NGC 24.07/Python 3.10) on Backend.AI",
   "language": "python",
   "name": "python3"
  },
  "language_info": {
   "codemirror_mode": {
    "name": "ipython",
    "version": 3
   },
   "file_extension": ".py",
   "mimetype": "text/x-python",
   "name": "python",
   "nbconvert_exporter": "python",
   "pygments_lexer": "ipython3",
   "version": "3.10.12"
  }
 },
 "nbformat": 4,
 "nbformat_minor": 5
}
