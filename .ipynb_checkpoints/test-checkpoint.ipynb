{
 "cells": [
  {
   "cell_type": "code",
   "execution_count": 1,
   "id": "3359601f",
   "metadata": {},
   "outputs": [],
   "source": [
    "from transformers import AutoTokenizer\n",
    "from datasets import load_dataset\n",
    "import tiktoken"
   ]
  },
  {
   "cell_type": "markdown",
   "id": "8a7dc0d1",
   "metadata": {},
   "source": [
    "# data"
   ]
  },
  {
   "cell_type": "code",
   "execution_count": 7,
   "id": "9ad29523",
   "metadata": {},
   "outputs": [],
   "source": [
    "import yaml"
   ]
  },
  {
   "cell_type": "code",
   "execution_count": 8,
   "id": "74eb25a0",
   "metadata": {},
   "outputs": [
    {
     "data": {
      "text/plain": [
       "{'version': 'midm2.3',\n",
       " 'data_mix': {'cc': None,\n",
       "  'encyclo': None,\n",
       "  'cosmopedia': None,\n",
       "  'written': None,\n",
       "  'book': None,\n",
       "  'webdata': None,\n",
       "  'dic': None,\n",
       "  'chat': None,\n",
       "  'news': None,\n",
       "  'spoken': None}}"
      ]
     },
     "metadata": {},
     "output_type": "display_data"
    }
   ],
   "source": [
    "with open('config/data_mix.yaml') as f:\n",
    "    film = yaml.load(f, Loader=yaml.FullLoader)\n",
    "    display(film)"
   ]
  },
  {
   "cell_type": "code",
   "execution_count": null,
   "id": "db3ed848",
   "metadata": {},
   "outputs": [],
   "source": [
    "film"
   ]
  },
  {
   "cell_type": "code",
   "execution_count": null,
   "id": "59e5c7d4",
   "metadata": {},
   "outputs": [],
   "source": [
    "data = {'A': 'abc', 'B': {'C': 'c', 'D': 'd', 'E': 'e'}, 'W': ['x', 'y', 'z']}\n",
    "\n",
    "with open('data.yml', 'w') as file:\n",
    "    yaml.dump(data, file, default_flow_style=False)"
   ]
  },
  {
   "cell_type": "code",
   "execution_count": 2,
   "id": "f0ba4b6f",
   "metadata": {},
   "outputs": [
    {
     "name": "stderr",
     "output_type": "stream",
     "text": [
      "Using the latest cached version of the dataset since HuggingFaceFW/fineweb-2 couldn't be found on the Hugging Face Hub\n",
      "Found the latest cached dataset configuration 'kor_Hang' at ../cache/HuggingFaceFW___fineweb-2/kor_Hang/0.0.0/e76742d94545d773d1afc8d2fc63442c0347cab4 (last modified on Mon Jan  6 01:46:01 2025).\n"
     ]
    },
    {
     "data": {
      "application/vnd.jupyter.widget-view+json": {
       "model_id": "7574c2cc69f14e9790f8cd0a9af98908",
       "version_major": 2,
       "version_minor": 0
      },
      "text/plain": [
       "Loading dataset shards:   0%|          | 0/486 [00:00<?, ?it/s]"
      ]
     },
     "metadata": {},
     "output_type": "display_data"
    }
   ],
   "source": [
    "cc = load_dataset('HuggingFaceFW/fineweb-2', 'kor_Hang', cache_dir='../cache', split='train')\n",
    "remove_columns = [i for i in cc.column_names if i!='text']\n",
    "cc = cc.remove_columns(remove_columns)"
   ]
  },
  {
   "cell_type": "code",
   "execution_count": 2,
   "id": "340dfbf0",
   "metadata": {},
   "outputs": [],
   "source": [
    "import os"
   ]
  },
  {
   "cell_type": "code",
   "execution_count": 3,
   "id": "957495a7",
   "metadata": {},
   "outputs": [],
   "source": [
    "total_data_path = '/home/work/g-earth-22/ocw/total/ko'"
   ]
  },
  {
   "cell_type": "code",
   "execution_count": 5,
   "id": "31a899e3",
   "metadata": {},
   "outputs": [
    {
     "data": {
      "text/plain": [
       "['encyclo',\n",
       " 'cosmopedia',\n",
       " 'written',\n",
       " 'book',\n",
       " 'webdata',\n",
       " 'dic',\n",
       " 'chat',\n",
       " 'news',\n",
       " 'spoken']"
      ]
     },
     "execution_count": 5,
     "metadata": {},
     "output_type": "execute_result"
    }
   ],
   "source": [
    "os.listdir(total_data_path)"
   ]
  },
  {
   "cell_type": "code",
   "execution_count": 5,
   "id": "03f66ce6",
   "metadata": {},
   "outputs": [],
   "source": [
    "dataset_dict = {}\n",
    "dataset_dict['cc']=cc"
   ]
  },
  {
   "cell_type": "code",
   "execution_count": 7,
   "id": "dd518f89",
   "metadata": {},
   "outputs": [],
   "source": [
    "from datasets import concatenate_datasets"
   ]
  },
  {
   "cell_type": "code",
   "execution_count": 8,
   "id": "d433e6d6",
   "metadata": {},
   "outputs": [],
   "source": [
    "from tqdm import tqdm"
   ]
  },
  {
   "cell_type": "code",
   "execution_count": null,
   "id": "2f18ce68",
   "metadata": {},
   "outputs": [
    {
     "name": "stderr",
     "output_type": "stream",
     "text": [
      "  0% 0/9 [00:00<?, ?it/s]"
     ]
    },
    {
     "data": {
      "application/vnd.jupyter.widget-view+json": {
       "model_id": "750fdd68ab614e7780c432b1bade2213",
       "version_major": 2,
       "version_minor": 0
      },
      "text/plain": [
       "Generating train split: 0 examples [00:00, ? examples/s]"
      ]
     },
     "metadata": {},
     "output_type": "display_data"
    },
    {
     "name": "stderr",
     "output_type": "stream",
     "text": [
      " 22% 2/9 [00:18<00:55,  7.93s/it]"
     ]
    },
    {
     "data": {
      "application/vnd.jupyter.widget-view+json": {
       "model_id": "b8462e6355d948a3b3d0e71d21c239a2",
       "version_major": 2,
       "version_minor": 0
      },
      "text/plain": [
       "Generating train split: 0 examples [00:00, ? examples/s]"
      ]
     },
     "metadata": {},
     "output_type": "display_data"
    },
    {
     "data": {
      "application/vnd.jupyter.widget-view+json": {
       "model_id": "979a92211e4a4be9a9335343165d0e0a",
       "version_major": 2,
       "version_minor": 0
      },
      "text/plain": [
       "Generating train split: 0 examples [00:00, ? examples/s]"
      ]
     },
     "metadata": {},
     "output_type": "display_data"
    },
    {
     "data": {
      "application/vnd.jupyter.widget-view+json": {
       "model_id": "790daa2136d04ebaaf3e9f15b7637bc8",
       "version_major": 2,
       "version_minor": 0
      },
      "text/plain": [
       "Generating train split: 0 examples [00:00, ? examples/s]"
      ]
     },
     "metadata": {},
     "output_type": "display_data"
    },
    {
     "data": {
      "application/vnd.jupyter.widget-view+json": {
       "model_id": "277b217b56e14d2282adaaaee0db2fa7",
       "version_major": 2,
       "version_minor": 0
      },
      "text/plain": [
       "Generating train split: 0 examples [00:00, ? examples/s]"
      ]
     },
     "metadata": {},
     "output_type": "display_data"
    },
    {
     "data": {
      "application/vnd.jupyter.widget-view+json": {
       "model_id": "a54efc0c56824aebb2f7407ec6af2f98",
       "version_major": 2,
       "version_minor": 0
      },
      "text/plain": [
       "Generating train split: 0 examples [00:00, ? examples/s]"
      ]
     },
     "metadata": {},
     "output_type": "display_data"
    },
    {
     "data": {
      "application/vnd.jupyter.widget-view+json": {
       "model_id": "9df7e2cd03424c91bb9de14003c538dc",
       "version_major": 2,
       "version_minor": 0
      },
      "text/plain": [
       "Generating train split: 0 examples [00:00, ? examples/s]"
      ]
     },
     "metadata": {},
     "output_type": "display_data"
    },
    {
     "data": {
      "application/vnd.jupyter.widget-view+json": {
       "model_id": "0d8d084c1e814aaf8929257a2474687d",
       "version_major": 2,
       "version_minor": 0
      },
      "text/plain": [
       "Generating train split: 0 examples [00:00, ? examples/s]"
      ]
     },
     "metadata": {},
     "output_type": "display_data"
    },
    {
     "data": {
      "application/vnd.jupyter.widget-view+json": {
       "model_id": "8c72c934d4f9454298190dd130ee1e76",
       "version_major": 2,
       "version_minor": 0
      },
      "text/plain": [
       "Generating train split: 0 examples [00:00, ? examples/s]"
      ]
     },
     "metadata": {},
     "output_type": "display_data"
    },
    {
     "data": {
      "application/vnd.jupyter.widget-view+json": {
       "model_id": "b51233028e5a4e919a5c41268e5362c0",
       "version_major": 2,
       "version_minor": 0
      },
      "text/plain": [
       "Generating train split: 0 examples [00:00, ? examples/s]"
      ]
     },
     "metadata": {},
     "output_type": "display_data"
    },
    {
     "data": {
      "application/vnd.jupyter.widget-view+json": {
       "model_id": "f6b804f62d9e4418a0c34a7233b74074",
       "version_major": 2,
       "version_minor": 0
      },
      "text/plain": [
       "Generating train split: 0 examples [00:00, ? examples/s]"
      ]
     },
     "metadata": {},
     "output_type": "display_data"
    },
    {
     "data": {
      "application/vnd.jupyter.widget-view+json": {
       "model_id": "f7a427bc57e44352813c3faac1f3db7b",
       "version_major": 2,
       "version_minor": 0
      },
      "text/plain": [
       "Loading dataset shards:   0%|          | 0/24 [00:00<?, ?it/s]"
      ]
     },
     "metadata": {},
     "output_type": "display_data"
    },
    {
     "data": {
      "application/vnd.jupyter.widget-view+json": {
       "model_id": "dd91f07eb4014244b8943e8b06bc9a57",
       "version_major": 2,
       "version_minor": 0
      },
      "text/plain": [
       "Generating train split: 0 examples [00:00, ? examples/s]"
      ]
     },
     "metadata": {},
     "output_type": "display_data"
    },
    {
     "data": {
      "application/vnd.jupyter.widget-view+json": {
       "model_id": "c4174e1a2d0b40c18882cbc24158d226",
       "version_major": 2,
       "version_minor": 0
      },
      "text/plain": [
       "Generating train split: 0 examples [00:00, ? examples/s]"
      ]
     },
     "metadata": {},
     "output_type": "display_data"
    },
    {
     "data": {
      "application/vnd.jupyter.widget-view+json": {
       "model_id": "f2f4fddde52941b5983c2e2a809e9b43",
       "version_major": 2,
       "version_minor": 0
      },
      "text/plain": [
       "Generating train split: 0 examples [00:00, ? examples/s]"
      ]
     },
     "metadata": {},
     "output_type": "display_data"
    },
    {
     "data": {
      "application/vnd.jupyter.widget-view+json": {
       "model_id": "65a88644f2e1464e8bd6c62746b1c098",
       "version_major": 2,
       "version_minor": 0
      },
      "text/plain": [
       "Generating train split: 0 examples [00:00, ? examples/s]"
      ]
     },
     "metadata": {},
     "output_type": "display_data"
    },
    {
     "data": {
      "application/vnd.jupyter.widget-view+json": {
       "model_id": "886faf651c9a4387abba3e43d38f7575",
       "version_major": 2,
       "version_minor": 0
      },
      "text/plain": [
       "Generating train split: 0 examples [00:00, ? examples/s]"
      ]
     },
     "metadata": {},
     "output_type": "display_data"
    },
    {
     "data": {
      "application/vnd.jupyter.widget-view+json": {
       "model_id": "d48d878d5cd54270b3b6d9760e683eaf",
       "version_major": 2,
       "version_minor": 0
      },
      "text/plain": [
       "Generating train split: 0 examples [00:00, ? examples/s]"
      ]
     },
     "metadata": {},
     "output_type": "display_data"
    },
    {
     "data": {
      "application/vnd.jupyter.widget-view+json": {
       "model_id": "cd519a5ad9504900a7fa0c9809e306eb",
       "version_major": 2,
       "version_minor": 0
      },
      "text/plain": [
       "Generating train split: 0 examples [00:00, ? examples/s]"
      ]
     },
     "metadata": {},
     "output_type": "display_data"
    },
    {
     "data": {
      "application/vnd.jupyter.widget-view+json": {
       "model_id": "43c5c953685347ab9b1127672a4c03f4",
       "version_major": 2,
       "version_minor": 0
      },
      "text/plain": [
       "Generating train split: 0 examples [00:00, ? examples/s]"
      ]
     },
     "metadata": {},
     "output_type": "display_data"
    },
    {
     "data": {
      "application/vnd.jupyter.widget-view+json": {
       "model_id": "13fd459a183c415697f007248442d677",
       "version_major": 2,
       "version_minor": 0
      },
      "text/plain": [
       "Generating train split: 0 examples [00:00, ? examples/s]"
      ]
     },
     "metadata": {},
     "output_type": "display_data"
    },
    {
     "data": {
      "application/vnd.jupyter.widget-view+json": {
       "model_id": "6f916fd3881b411f8b4271e91dc50b06",
       "version_major": 2,
       "version_minor": 0
      },
      "text/plain": [
       "Generating train split: 0 examples [00:00, ? examples/s]"
      ]
     },
     "metadata": {},
     "output_type": "display_data"
    },
    {
     "data": {
      "application/vnd.jupyter.widget-view+json": {
       "model_id": "4cf86eb983a042a9a4c4657db2bfc51e",
       "version_major": 2,
       "version_minor": 0
      },
      "text/plain": [
       "Generating train split: 0 examples [00:00, ? examples/s]"
      ]
     },
     "metadata": {},
     "output_type": "display_data"
    },
    {
     "data": {
      "application/vnd.jupyter.widget-view+json": {
       "model_id": "9e8a889563574b8c849958e349f7e8cc",
       "version_major": 2,
       "version_minor": 0
      },
      "text/plain": [
       "Generating train split: 0 examples [00:00, ? examples/s]"
      ]
     },
     "metadata": {},
     "output_type": "display_data"
    },
    {
     "data": {
      "application/vnd.jupyter.widget-view+json": {
       "model_id": "c63da31bbeab44edaa52f43a724a48d7",
       "version_major": 2,
       "version_minor": 0
      },
      "text/plain": [
       "Generating train split: 0 examples [00:00, ? examples/s]"
      ]
     },
     "metadata": {},
     "output_type": "display_data"
    },
    {
     "data": {
      "application/vnd.jupyter.widget-view+json": {
       "model_id": "4e0f9cd7d1454cf284f97724d99b3eef",
       "version_major": 2,
       "version_minor": 0
      },
      "text/plain": [
       "Generating train split: 0 examples [00:00, ? examples/s]"
      ]
     },
     "metadata": {},
     "output_type": "display_data"
    },
    {
     "data": {
      "application/vnd.jupyter.widget-view+json": {
       "model_id": "6ad4e2959163473f803392cfb8bce4b7",
       "version_major": 2,
       "version_minor": 0
      },
      "text/plain": [
       "Loading dataset shards:   0%|          | 0/36 [00:00<?, ?it/s]"
      ]
     },
     "metadata": {},
     "output_type": "display_data"
    },
    {
     "data": {
      "application/vnd.jupyter.widget-view+json": {
       "model_id": "3a3eb3be950140d49511aaa140afbc7a",
       "version_major": 2,
       "version_minor": 0
      },
      "text/plain": [
       "Generating train split: 0 examples [00:00, ? examples/s]"
      ]
     },
     "metadata": {},
     "output_type": "display_data"
    },
    {
     "data": {
      "application/vnd.jupyter.widget-view+json": {
       "model_id": "3d30f797bbc2467fb5ef6f47a9b9a20a",
       "version_major": 2,
       "version_minor": 0
      },
      "text/plain": [
       "Generating train split: 0 examples [00:00, ? examples/s]"
      ]
     },
     "metadata": {},
     "output_type": "display_data"
    },
    {
     "data": {
      "application/vnd.jupyter.widget-view+json": {
       "model_id": "70c5fec7aa6f4511b1e30b44c6c7d50d",
       "version_major": 2,
       "version_minor": 0
      },
      "text/plain": [
       "Generating train split: 0 examples [00:00, ? examples/s]"
      ]
     },
     "metadata": {},
     "output_type": "display_data"
    },
    {
     "data": {
      "application/vnd.jupyter.widget-view+json": {
       "model_id": "b967bad8a731469cb087778fffb7fb30",
       "version_major": 2,
       "version_minor": 0
      },
      "text/plain": [
       "Generating train split: 0 examples [00:00, ? examples/s]"
      ]
     },
     "metadata": {},
     "output_type": "display_data"
    }
   ],
   "source": [
    "for name in tqdm(os.listdir(total_data_path)):\n",
    "    path = os.path.join(total_data_path, name)\n",
    "    datasets = []\n",
    "    if os.path.isdir(path):\n",
    "        for data_name in os.listdir(path):\n",
    "            try:\n",
    "                d = load_dataset('json', data_files=os.path.join(path, data_name), split='train')\n",
    "            except:\n",
    "                d = load_dataset('json', data_files=os.path.join(path, data_name))\n",
    "            remove_columns = [i for i in d.column_names if i!='text']\n",
    "            d = d.remove_columns(remove_columns)\n",
    "            datasets.append(d)\n",
    "    datasets = concatenate_datasets(datasets)\n",
    "    dataset_dict[name]=datasets"
   ]
  },
  {
   "cell_type": "code",
   "execution_count": null,
   "id": "d9acabea",
   "metadata": {},
   "outputs": [],
   "source": [
    "_dataset_dict = dict()\n",
    "for name, ds in tqdm(dataset_dict.items()):\n",
    "    ds = ds.add_column('src',[name]*len(ds))\n",
    "    _dataset_dict[name]=ds"
   ]
  },
  {
   "cell_type": "code",
   "execution_count": 27,
   "id": "7fe50cf3",
   "metadata": {},
   "outputs": [],
   "source": [
    "import json\n",
    "import tiktoken\n",
    "import base64\n",
    "\n",
    "def load_tiktoken_tokenizer(file_path):\n",
    "    from tiktoken.load import load_tiktoken_bpe\n",
    "    with open(file_path, 'r') as f:\n",
    "        tiktoken_json = json.loads(f.read())\n",
    "    mergeable_ranks = {\n",
    "      base64.b64decode(token): int(rank)\n",
    "      for token, rank in (line.split() for line in tiktoken_json[\"mergeable_ranks\"].splitlines() if line)\n",
    "    }\n",
    "    tokenizer = tiktoken.Encoding(\n",
    "      name=file_path.split('/')[-1],\n",
    "      pat_str=tiktoken_json['pat_str'],\n",
    "      mergeable_ranks=mergeable_ranks,\n",
    "      special_tokens=tiktoken_json['special_tokens']\n",
    "    )\n",
    "    return tokenizer"
   ]
  },
  {
   "cell_type": "code",
   "execution_count": 28,
   "id": "5a4b88de",
   "metadata": {},
   "outputs": [
    {
     "data": {
      "text/plain": [
       "[2]"
      ]
     },
     "execution_count": 28,
     "metadata": {},
     "output_type": "execute_result"
    }
   ],
   "source": [
    "# LOAD TOKENIZER\n",
    "# ex) tokenizer = load_tiktoken_tokenizer('kt_tokenizer_v3/tiktoken/kt_v3.tiktoken')\n",
    "TOKENIZER_MODEL_PATH='/home/work/g-earth-22/ocw/tokenizer/tiktoken/kt_v3.tiktoken'\n",
    "tokenizer = load_tiktoken_tokenizer(f'{TOKENIZER_MODEL_PATH}')\n",
    "\n",
    "tokenizer.encode('<|end_of_text|>', allowed_special='all')"
   ]
  },
  {
   "cell_type": "code",
   "execution_count": 29,
   "id": "dd57b793",
   "metadata": {},
   "outputs": [],
   "source": [
    "def add_eos_token(text_list, eos_token='<|end_of_text|>'):\n",
    "    output = []\n",
    "    for i in text_list:\n",
    "        output.append(i+eos_token)\n",
    "    return output"
   ]
  },
  {
   "cell_type": "code",
   "execution_count": 36,
   "id": "fcebc6e3",
   "metadata": {},
   "outputs": [
    {
     "data": {
      "text/plain": [
       "Dataset({\n",
       "    features: ['text', 'src'],\n",
       "    num_rows: 822696\n",
       "})"
      ]
     },
     "execution_count": 36,
     "metadata": {},
     "output_type": "execute_result"
    }
   ],
   "source": []
  },
  {
   "cell_type": "code",
   "execution_count": 7,
   "id": "dc89ad8d",
   "metadata": {},
   "outputs": [
    {
     "data": {
      "application/vnd.jupyter.widget-view+json": {
       "model_id": "914563e04ebc4a3493e66ad6ea890044",
       "version_major": 2,
       "version_minor": 0
      },
      "text/plain": [
       "Map (num_proc=64):   0%|          | 0/28710 [00:00<?, ? examples/s]"
      ]
     },
     "metadata": {},
     "output_type": "display_data"
    },
    {
     "data": {
      "application/vnd.jupyter.widget-view+json": {
       "model_id": "2e6dcd7545b3458b9fd3eeb618b1b30a",
       "version_major": 2,
       "version_minor": 0
      },
      "text/plain": [
       "Map (num_proc=64):   0%|          | 0/58160164 [00:00<?, ? examples/s]"
      ]
     },
     "metadata": {},
     "output_type": "display_data"
    },
    {
     "name": "stdout",
     "output_type": "stream",
     "text": [
      "CPU times: user 25.5 s, sys: 5.86 s, total: 31.4 s\n",
      "Wall time: 13min 21s\n"
     ]
    }
   ],
   "source": [
    "%%time\n",
    "ds = ds.map(\n",
    "        lambda x: {\"input_ids\": tokenizer.encode_batch(add_eos_token(x),allowed_special='all')},\n",
    "        input_columns='text',\n",
    "        batched=True,\n",
    "        num_proc=64)"
   ]
  },
  {
   "cell_type": "code",
   "execution_count": 9,
   "id": "ae13f360",
   "metadata": {},
   "outputs": [],
   "source": [
    "block_size = 2048"
   ]
  },
  {
   "cell_type": "code",
   "execution_count": 10,
   "id": "d89030fa",
   "metadata": {},
   "outputs": [],
   "source": [
    "from itertools import chain\n",
    "def group_texts(examples):\n",
    "    # Concatenate all texts.\n",
    "    concatenated_examples = {k: list(chain(*examples[k])) for k in examples.keys()}\n",
    "    total_length = len(concatenated_examples[list(examples.keys())[0]])\n",
    "    # We drop the small remainder, and if the total_length < block_size  we exclude this batch and return an empty dict.\n",
    "    # We could add padding if the model supported it instead of this drop, you can customize this part to your needs.\n",
    "    total_length = (total_length // block_size) * block_size        \n",
    "    # Split by chunks of max_len.\n",
    "    result = {\n",
    "        k: [t[i : i + block_size] for i in range(0, total_length, block_size)]\n",
    "        for k, t in concatenated_examples.items()\n",
    "    }\n",
    "    result[\"labels\"] = result[\"input_ids\"].copy()\n",
    "    return result"
   ]
  },
  {
   "cell_type": "code",
   "execution_count": 11,
   "id": "8e7611a3",
   "metadata": {},
   "outputs": [],
   "source": [
    "column_names = [i for i in ds['train'].column_names if i not in ['input_ids']]"
   ]
  },
  {
   "cell_type": "code",
   "execution_count": 12,
   "id": "21242cc6",
   "metadata": {},
   "outputs": [],
   "source": [
    "_ds = ds.remove_columns(column_names)"
   ]
  },
  {
   "cell_type": "code",
   "execution_count": 13,
   "id": "559959e9",
   "metadata": {},
   "outputs": [
    {
     "data": {
      "application/vnd.jupyter.widget-view+json": {
       "model_id": "15524b50e76a43a48385192373c6a5d6",
       "version_major": 2,
       "version_minor": 0
      },
      "text/plain": [
       "Grouping texts in chunks of 2048 (num_proc=64):   0%|          | 0/28710 [00:00<?, ? examples/s]"
      ]
     },
     "metadata": {},
     "output_type": "display_data"
    },
    {
     "data": {
      "application/vnd.jupyter.widget-view+json": {
       "model_id": "70ad965dd4ef4e718448a027853002ac",
       "version_major": 2,
       "version_minor": 0
      },
      "text/plain": [
       "Grouping texts in chunks of 2048 (num_proc=64):   0%|          | 0/58160164 [00:00<?, ? examples/s]"
      ]
     },
     "metadata": {},
     "output_type": "display_data"
    }
   ],
   "source": [
    "lm_datasets = _ds.map(\n",
    "            group_texts,\n",
    "            batched=True,\n",
    "            num_proc=64,\n",
    "            desc=f\"Grouping texts in chunks of {block_size}\",\n",
    "        )"
   ]
  },
  {
   "cell_type": "code",
   "execution_count": 14,
   "id": "eed8d4e3",
   "metadata": {},
   "outputs": [
    {
     "data": {
      "application/vnd.jupyter.widget-view+json": {
       "model_id": "7cb63ab4658d44d997d58a86baaaca75",
       "version_major": 2,
       "version_minor": 0
      },
      "text/plain": [
       "Saving the dataset (0/64 shards):   0%|          | 0/10216 [00:00<?, ? examples/s]"
      ]
     },
     "metadata": {},
     "output_type": "display_data"
    },
    {
     "data": {
      "application/vnd.jupyter.widget-view+json": {
       "model_id": "45aff8160be346f2a271336132de34eb",
       "version_major": 2,
       "version_minor": 0
      },
      "text/plain": [
       "Saving the dataset (0/1015 shards):   0%|          | 0/20636903 [00:00<?, ? examples/s]"
      ]
     },
     "metadata": {},
     "output_type": "display_data"
    }
   ],
   "source": [
    "lm_datasets.save_to_disk('fineweb-2-kor-grouped-kt', num_proc=64)"
   ]
  },
  {
   "cell_type": "code",
   "execution_count": null,
   "id": "64584d0a",
   "metadata": {},
   "outputs": [],
   "source": [
    "# Co"
   ]
  }
 ],
 "metadata": {
  "kernelspec": {
   "display_name": "PyTorch 2.4 (NGC 24.07/Python 3.10) on Backend.AI",
   "language": "python",
   "name": "python3"
  },
  "language_info": {
   "codemirror_mode": {
    "name": "ipython",
    "version": 3
   },
   "file_extension": ".py",
   "mimetype": "text/x-python",
   "name": "python",
   "nbconvert_exporter": "python",
   "pygments_lexer": "ipython3",
   "version": "3.10.12"
  }
 },
 "nbformat": 4,
 "nbformat_minor": 5
}
